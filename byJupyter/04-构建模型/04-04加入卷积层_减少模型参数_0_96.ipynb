{
 "cells": [
  {
   "cell_type": "code",
   "execution_count": 2,
   "id": "initial_id",
   "metadata": {
    "collapsed": true
   },
   "outputs": [],
   "source": [
    "import arrow\n",
    "import joblib\n",
    "import numpy as np\n",
    "import pandas as pd\n",
    "import tensorflow as tf\n",
    "from keras import Sequential\n",
    "# TODO:[-] 25-06-03 keras.src 路径是 TensorFlow 2.11 及更高版本中集成在 TensorFlow 内部的 Keras 3 中使用的。\n",
    "# from keras.src.layers import LSTM, Dropout, Bidirectional, Dense, Masking\n",
    "from keras.layers import LSTM, Dropout, Bidirectional, Dense, Masking\n",
    "from pandas import DatetimeIndex\n",
    "from sklearn.model_selection import train_test_split\n",
    "from sklearn.metrics import mean_squared_error\n",
    "# from tensorflow.keras.losses import MeanSquaredError\n",
    "# 可视化结果（如果需要）\n",
    "import matplotlib.pyplot as plt\n",
    "import os\n",
    "import pathlib\n",
    "import xml.etree.ElementTree as ET\n",
    "import xarray as xr\n",
    "import codecs\n",
    "import datetime\n",
    "import math\n",
    "\n",
    "# 先从海浪数据中提取出经纬度，时间，风，海浪高度\n",
    "# 解析单个文件，并存于字典内\n",
    "from sklearn.preprocessing import StandardScaler, MinMaxScaler\n",
    "from keras.layers import Conv1D, MaxPooling1D"
   ]
  },
  {
   "cell_type": "code",
   "execution_count": 5,
   "id": "38af8939",
   "metadata": {},
   "outputs": [],
   "source": [
    "forecast_path: str = r'Z:\\SOURCE_MERGE_DATA\\df_ws_forecast.csv'\n",
    "realdata_path: str = r'Z:\\SOURCE_MERGE_DATA\\2024_local_df_utc_183_split.csv'\n",
    "'''按照三小时一个提取的实况数据路径'''\n",
    "model_path: str = r'Z:\\02TRAINNING_MODEL\\fit_model_v3.2_250624_cnn_simaple_0_96.h5'\n",
    "# scaler_forecast: str = r'Z:\\01TRAINNING_DATA\\scaler\\scaler_forecast_250609.sav'\n",
    "# scaler_realdata: str = r'Z:\\01TRAINNING_DATA\\scaler\\scaler_realdata_250609.sav'"
   ]
  },
  {
   "cell_type": "markdown",
   "id": "5d237633",
   "metadata": {},
   "source": [
    "#### 新增修改，只提取[0,24]的数据"
   ]
  },
  {
   "cell_type": "code",
   "execution_count": 6,
   "id": "2f8fb56d",
   "metadata": {},
   "outputs": [],
   "source": [
    " # step1: 加载标准化后的 预报 | 实况 数据集\n",
    "# shape: (61,732)\n",
    "df_forecast = pd.read_csv(forecast_path, encoding='utf-8', index_col=0)\n",
    "# shape:(61,731)\n",
    "df_realdata = pd.read_csv(realdata_path, encoding='utf-8', index_col=0)\n",
    "# 实况拼接有问题需要手动去掉最后一列\n",
    "# 使用按3小时进行分割的数据不需要去掉最后一列，这样 realdata 与 forecast 的 columns 一致\n",
    "# df_realdata = df_realdata.drop(df_realdata.columns[-1], axis=1)\n",
    "df_forecast = df_forecast.iloc[:61, :]"
   ]
  },
  {
   "cell_type": "markdown",
   "id": "2ba8c158",
   "metadata": {},
   "source": [
    "#### 注意此处需要对实况数据与预报数据对其  \n",
    "实况数据已经进行了拆分（提取了时间间隔为3hour的实况数据）"
   ]
  },
  {
   "cell_type": "code",
   "execution_count": 7,
   "id": "35370752",
   "metadata": {},
   "outputs": [],
   "source": [
    "step=3\n",
    "start_hour = 0\n",
    "end_hour = 96"
   ]
  },
  {
   "cell_type": "code",
   "execution_count": 8,
   "id": "28fd5d8c",
   "metadata": {},
   "outputs": [],
   "source": [
    "# 计算开始索引\n",
    "# 注意：start_hour 和 end_hour 是以小时为单位的\n",
    "start_index=math.ceil(start_hour/step)\n",
    "# 计算结束索引\n",
    "end_index=math.ceil(end_hour/step)"
   ]
  },
  {
   "cell_type": "code",
   "execution_count": 9,
   "id": "a43dd582",
   "metadata": {},
   "outputs": [
    {
     "data": {
      "text/plain": [
       "(32, 732)"
      ]
     },
     "execution_count": 9,
     "metadata": {},
     "output_type": "execute_result"
    }
   ],
   "source": [
    "df_forecast_split=df_forecast.iloc[start_index:end_index,:]\n",
    "df_forecast_split.shape"
   ]
  },
  {
   "cell_type": "code",
   "execution_count": 10,
   "id": "419d58cf",
   "metadata": {},
   "outputs": [
    {
     "data": {
      "text/plain": [
       "(32, 732)"
      ]
     },
     "execution_count": 10,
     "metadata": {},
     "output_type": "execute_result"
    }
   ],
   "source": [
    "df_realdata_split= df_realdata.iloc[start_index:end_index,:]\n",
    "df_realdata_split.shape"
   ]
  },
  {
   "cell_type": "code",
   "execution_count": 11,
   "id": "4eb8d53e",
   "metadata": {},
   "outputs": [],
   "source": [
    "# 手动将上面切分后的 df_forecast_24 与 df_realdata_24 赋值给 df_forecast 和 df_realdata\n",
    "df_forecast = df_forecast_split\n",
    "df_realdata = df_realdata_split"
   ]
  },
  {
   "cell_type": "markdown",
   "id": "5cc4ddcc",
   "metadata": {},
   "source": [
    "#### step2: 将[0,24]的数据作为训练及预测数据"
   ]
  },
  {
   "cell_type": "code",
   "execution_count": 12,
   "id": "0eb80b8a",
   "metadata": {},
   "outputs": [],
   "source": [
    "# step3: 数据标准化(提出nan值)\n",
    "rows: int = df_forecast.shape[0]\n",
    "cols: int = df_realdata.shape[1]\n",
    "# TODO:[-] 25-05-28 注意原始数据中: forecast (61,732), real (61,732)\n",
    "X = df_forecast.values.T.reshape(cols, rows, 1)\n",
    "# TODO:[*] 25-05-11 注意 y 中有存在 nan\n",
    "# ValueError: cannot reshape array of size 52776 into shape (732,72,1)\n",
    "y = df_realdata.values.T.reshape(cols, rows, 1)\n",
    "# step3-2:对数据进行归一化\n",
    "# 拍扁数据为二维数组（n*timesteps, feature）进行归一化\n",
    "X_flat = X.reshape(-1, 1)\n",
    "y_flat = y.reshape(-1, 1)\n",
    "# 分别为 X 和 y 定义归一化器（当然如果两者量纲一致，可用同一个 scaler）\n",
    "scaler_X = MinMaxScaler(feature_range=(0, 1))\n",
    "scaler_y = MinMaxScaler(feature_range=(0, 1))\n",
    "X_scaled = scaler_X.fit_transform(X_flat)\n",
    "y_scaled = scaler_y.fit_transform(y_flat)\n",
    "# TODO:[-] 25-06-09 保存归一化器\n",
    "# joblib.dump(scaler_X, scaler_forecast)\n",
    "# joblib.dump(scaler_y, scaler_realdata)\n",
    "# 将归一化后的二维数据恢复为原来的3D形状\n",
    "X = X_scaled.reshape(X.shape)\n",
    "y = y_scaled.reshape(y.shape)"
   ]
  },
  {
   "cell_type": "code",
   "execution_count": 13,
   "id": "0a249ade",
   "metadata": {},
   "outputs": [],
   "source": [
    "X_train, X_test, y_train, y_test = train_test_split(X, y, test_size=0.2, random_state=42)"
   ]
  },
  {
   "cell_type": "markdown",
   "id": "63291c53",
   "metadata": {},
   "source": [
    "##### step3: 数据标准化(剔除奇异值)"
   ]
  },
  {
   "cell_type": "code",
   "execution_count": 14,
   "id": "1f0efcc0",
   "metadata": {},
   "outputs": [],
   "source": [
    "X_train = np.array(X_train, dtype=np.float32)\n",
    "X_test = np.array(X_test, dtype=np.float32)\n",
    "y_train = np.array(y_train, dtype=np.float32)\n",
    "y_test = np.array(y_test, dtype=np.float32)\n",
    "# step4: 构建模型\n",
    "X_train = np.nan_to_num(X_train, nan=0.0)\n",
    "X_test = np.nan_to_num(X_test, nan=0.0)\n",
    "y_train = np.nan_to_num(y_train, nan=0.0)\n",
    "y_test = np.nan_to_num(y_test, nan=0.0)"
   ]
  },
  {
   "cell_type": "markdown",
   "id": "95b32516",
   "metadata": {},
   "source": [
    "#### step4: 构建模型"
   ]
  },
  {
   "cell_type": "code",
   "execution_count": 15,
   "id": "15593fef",
   "metadata": {},
   "outputs": [
    {
     "name": "stdout",
     "output_type": "stream",
     "text": [
      "Model: \"sequential\"\n",
      "_________________________________________________________________\n",
      " Layer (type)                Output Shape              Param #   \n",
      "=================================================================\n",
      " masking (Masking)           (None, 32, 1)             0         \n",
      "                                                                 \n",
      " conv1d (Conv1D)             (None, 32, 64)            256       \n",
      "                                                                 \n",
      " bidirectional (Bidirectiona  (None, 32, 200)          132000    \n",
      " l)                                                              \n",
      "                                                                 \n",
      " dropout (Dropout)           (None, 32, 200)           0         \n",
      "                                                                 \n",
      " dense (Dense)               (None, 32, 1)             201       \n",
      "                                                                 \n",
      "=================================================================\n",
      "Total params: 132,457\n",
      "Trainable params: 132,457\n",
      "Non-trainable params: 0\n",
      "_________________________________________________________________\n"
     ]
    }
   ],
   "source": [
    "model = Sequential()\n",
    "\n",
    "# 1. Masking层（既然您确认它没问题，我们保留）\n",
    "model.add(Masking(mask_value=0.0, input_shape=(32, 1)))\n",
    "\n",
    "# 2. Conv1D层：为每个时间步（包括初始步）创建局部特征\n",
    "model.add(Conv1D(filters=64, kernel_size=3, activation='relu', padding='causal'))\n",
    "\n",
    "# 3. Bidirectional LSTM层：学习长期依赖关系\n",
    "#    使用一层双向LSTM，它已经足够强大来捕捉序列模式。\n",
    "#    units=100 是一个比较均衡的选择。\n",
    "model.add(Bidirectional(LSTM(units=100, return_sequences=True, activation='tanh')))\n",
    "model.add(Dropout(0.2))\n",
    "\n",
    "# 4. Dense输出层：将LSTM在每个时间步的输出映射到最终的预测值\n",
    "model.add(Dense(1))\n",
    "\n",
    "# 编译模型\n",
    "model.compile(optimizer='adam', loss='mse')\n",
    "\n",
    "# 打印模型结构，观察其参数量是否比您之前的模型少了很多\n",
    "model.summary()\n"
   ]
  },
  {
   "cell_type": "code",
   "execution_count": 16,
   "id": "5a7d30e5",
   "metadata": {},
   "outputs": [
    {
     "name": "stdout",
     "output_type": "stream",
     "text": [
      "Epoch 1/200\n",
      "37/37 [==============================] - 8s 33ms/step - loss: 0.0295 - val_loss: 0.0236\n",
      "Epoch 2/200\n",
      "37/37 [==============================] - 0s 13ms/step - loss: 0.0205 - val_loss: 0.0211\n",
      "Epoch 3/200\n",
      "37/37 [==============================] - 0s 14ms/step - loss: 0.0191 - val_loss: 0.0205\n",
      "Epoch 4/200\n",
      "37/37 [==============================] - 0s 13ms/step - loss: 0.0187 - val_loss: 0.0203\n",
      "Epoch 5/200\n",
      "37/37 [==============================] - 0s 12ms/step - loss: 0.0184 - val_loss: 0.0205\n",
      "Epoch 6/200\n",
      "37/37 [==============================] - 1s 14ms/step - loss: 0.0182 - val_loss: 0.0201\n",
      "Epoch 7/200\n",
      "37/37 [==============================] - 0s 12ms/step - loss: 0.0183 - val_loss: 0.0201\n",
      "Epoch 8/200\n",
      "37/37 [==============================] - 1s 14ms/step - loss: 0.0181 - val_loss: 0.0199\n",
      "Epoch 9/200\n",
      "37/37 [==============================] - 0s 12ms/step - loss: 0.0180 - val_loss: 0.0200\n",
      "Epoch 10/200\n",
      "37/37 [==============================] - 0s 13ms/step - loss: 0.0181 - val_loss: 0.0210\n",
      "Epoch 11/200\n",
      "37/37 [==============================] - 1s 14ms/step - loss: 0.0181 - val_loss: 0.0198\n",
      "Epoch 12/200\n",
      "37/37 [==============================] - 0s 13ms/step - loss: 0.0179 - val_loss: 0.0197\n",
      "Epoch 13/200\n",
      "37/37 [==============================] - 0s 11ms/step - loss: 0.0180 - val_loss: 0.0204\n",
      "Epoch 14/200\n",
      "37/37 [==============================] - 0s 12ms/step - loss: 0.0184 - val_loss: 0.0203\n",
      "Epoch 15/200\n",
      "37/37 [==============================] - 0s 12ms/step - loss: 0.0179 - val_loss: 0.0196\n",
      "Epoch 16/200\n",
      "37/37 [==============================] - 0s 12ms/step - loss: 0.0180 - val_loss: 0.0197\n",
      "Epoch 17/200\n",
      "37/37 [==============================] - 0s 13ms/step - loss: 0.0178 - val_loss: 0.0198\n",
      "Epoch 18/200\n",
      "37/37 [==============================] - 0s 12ms/step - loss: 0.0177 - val_loss: 0.0196\n",
      "Epoch 19/200\n",
      "37/37 [==============================] - 0s 13ms/step - loss: 0.0179 - val_loss: 0.0196\n",
      "Epoch 20/200\n",
      "37/37 [==============================] - 0s 12ms/step - loss: 0.0181 - val_loss: 0.0196\n",
      "Epoch 21/200\n",
      "37/37 [==============================] - 0s 12ms/step - loss: 0.0177 - val_loss: 0.0196\n",
      "Epoch 22/200\n",
      "37/37 [==============================] - 0s 12ms/step - loss: 0.0178 - val_loss: 0.0194\n",
      "Epoch 23/200\n",
      "37/37 [==============================] - 0s 13ms/step - loss: 0.0177 - val_loss: 0.0194\n",
      "Epoch 24/200\n",
      "37/37 [==============================] - 0s 12ms/step - loss: 0.0177 - val_loss: 0.0194\n",
      "Epoch 25/200\n",
      "37/37 [==============================] - 0s 12ms/step - loss: 0.0177 - val_loss: 0.0195\n",
      "Epoch 26/200\n",
      "37/37 [==============================] - 0s 13ms/step - loss: 0.0179 - val_loss: 0.0194\n",
      "Epoch 27/200\n",
      "37/37 [==============================] - 0s 12ms/step - loss: 0.0179 - val_loss: 0.0194\n",
      "Epoch 28/200\n",
      "37/37 [==============================] - 0s 13ms/step - loss: 0.0179 - val_loss: 0.0194\n",
      "Epoch 29/200\n",
      "37/37 [==============================] - 0s 13ms/step - loss: 0.0179 - val_loss: 0.0196\n",
      "Epoch 30/200\n",
      "37/37 [==============================] - 0s 12ms/step - loss: 0.0177 - val_loss: 0.0193\n",
      "Epoch 31/200\n",
      "37/37 [==============================] - 0s 13ms/step - loss: 0.0177 - val_loss: 0.0198\n",
      "Epoch 32/200\n",
      "37/37 [==============================] - 0s 12ms/step - loss: 0.0179 - val_loss: 0.0194\n",
      "Epoch 33/200\n",
      "37/37 [==============================] - 0s 13ms/step - loss: 0.0175 - val_loss: 0.0194\n",
      "Epoch 34/200\n",
      "37/37 [==============================] - 0s 13ms/step - loss: 0.0177 - val_loss: 0.0195\n",
      "Epoch 35/200\n",
      "37/37 [==============================] - 0s 12ms/step - loss: 0.0175 - val_loss: 0.0194\n",
      "Epoch 36/200\n",
      "37/37 [==============================] - 0s 13ms/step - loss: 0.0175 - val_loss: 0.0192\n",
      "Epoch 37/200\n",
      "37/37 [==============================] - 1s 14ms/step - loss: 0.0175 - val_loss: 0.0192\n",
      "Epoch 38/200\n",
      "37/37 [==============================] - 0s 12ms/step - loss: 0.0176 - val_loss: 0.0194\n",
      "Epoch 39/200\n",
      "37/37 [==============================] - 0s 12ms/step - loss: 0.0175 - val_loss: 0.0192\n",
      "Epoch 40/200\n",
      "37/37 [==============================] - 0s 12ms/step - loss: 0.0174 - val_loss: 0.0192\n",
      "Epoch 41/200\n",
      "37/37 [==============================] - 0s 13ms/step - loss: 0.0175 - val_loss: 0.0191\n",
      "Epoch 42/200\n",
      "37/37 [==============================] - 0s 12ms/step - loss: 0.0176 - val_loss: 0.0192\n",
      "Epoch 43/200\n",
      "37/37 [==============================] - 0s 12ms/step - loss: 0.0176 - val_loss: 0.0193\n",
      "Epoch 44/200\n",
      "37/37 [==============================] - 0s 12ms/step - loss: 0.0176 - val_loss: 0.0192\n",
      "Epoch 45/200\n",
      "37/37 [==============================] - 0s 12ms/step - loss: 0.0174 - val_loss: 0.0208\n",
      "Epoch 46/200\n",
      "37/37 [==============================] - 0s 12ms/step - loss: 0.0177 - val_loss: 0.0192\n",
      "Epoch 47/200\n",
      "37/37 [==============================] - 0s 12ms/step - loss: 0.0177 - val_loss: 0.0192\n",
      "Epoch 48/200\n",
      "37/37 [==============================] - 0s 13ms/step - loss: 0.0175 - val_loss: 0.0193\n",
      "Epoch 49/200\n",
      "37/37 [==============================] - 0s 12ms/step - loss: 0.0174 - val_loss: 0.0191\n",
      "Epoch 50/200\n",
      "37/37 [==============================] - 0s 11ms/step - loss: 0.0174 - val_loss: 0.0192\n",
      "Epoch 51/200\n",
      "37/37 [==============================] - 0s 12ms/step - loss: 0.0174 - val_loss: 0.0190\n",
      "Epoch 52/200\n",
      "37/37 [==============================] - 0s 11ms/step - loss: 0.0175 - val_loss: 0.0190\n",
      "Epoch 53/200\n",
      "37/37 [==============================] - 0s 11ms/step - loss: 0.0174 - val_loss: 0.0196\n",
      "Epoch 54/200\n",
      "37/37 [==============================] - 0s 12ms/step - loss: 0.0174 - val_loss: 0.0193\n",
      "Epoch 55/200\n",
      "37/37 [==============================] - 0s 11ms/step - loss: 0.0174 - val_loss: 0.0190\n",
      "Epoch 56/200\n",
      "37/37 [==============================] - 0s 11ms/step - loss: 0.0171 - val_loss: 0.0190\n",
      "Epoch 57/200\n",
      "37/37 [==============================] - 0s 12ms/step - loss: 0.0173 - val_loss: 0.0190\n",
      "Epoch 58/200\n",
      "37/37 [==============================] - 0s 11ms/step - loss: 0.0174 - val_loss: 0.0190\n",
      "Epoch 59/200\n",
      "37/37 [==============================] - 0s 11ms/step - loss: 0.0173 - val_loss: 0.0189\n",
      "Epoch 60/200\n",
      "37/37 [==============================] - 0s 12ms/step - loss: 0.0172 - val_loss: 0.0191\n",
      "Epoch 61/200\n",
      "37/37 [==============================] - 0s 12ms/step - loss: 0.0172 - val_loss: 0.0189\n",
      "Epoch 62/200\n",
      "37/37 [==============================] - 0s 13ms/step - loss: 0.0174 - val_loss: 0.0189\n",
      "Epoch 63/200\n",
      "37/37 [==============================] - 0s 12ms/step - loss: 0.0172 - val_loss: 0.0190\n",
      "Epoch 64/200\n",
      "37/37 [==============================] - 0s 12ms/step - loss: 0.0172 - val_loss: 0.0190\n",
      "Epoch 65/200\n",
      "37/37 [==============================] - 0s 12ms/step - loss: 0.0173 - val_loss: 0.0190\n",
      "Epoch 66/200\n",
      "37/37 [==============================] - 0s 12ms/step - loss: 0.0172 - val_loss: 0.0188\n",
      "Epoch 67/200\n",
      "37/37 [==============================] - 0s 13ms/step - loss: 0.0173 - val_loss: 0.0188\n",
      "Epoch 68/200\n",
      "37/37 [==============================] - 0s 13ms/step - loss: 0.0172 - val_loss: 0.0188\n",
      "Epoch 69/200\n",
      "37/37 [==============================] - 0s 12ms/step - loss: 0.0171 - val_loss: 0.0188\n",
      "Epoch 70/200\n",
      "37/37 [==============================] - 0s 11ms/step - loss: 0.0172 - val_loss: 0.0189\n",
      "Epoch 71/200\n",
      "37/37 [==============================] - 0s 12ms/step - loss: 0.0170 - val_loss: 0.0191\n",
      "Epoch 72/200\n",
      "37/37 [==============================] - 0s 12ms/step - loss: 0.0172 - val_loss: 0.0188\n",
      "Epoch 73/200\n",
      "37/37 [==============================] - 0s 11ms/step - loss: 0.0170 - val_loss: 0.0187\n",
      "Epoch 74/200\n",
      "37/37 [==============================] - 0s 12ms/step - loss: 0.0170 - val_loss: 0.0187\n",
      "Epoch 75/200\n",
      "37/37 [==============================] - 0s 11ms/step - loss: 0.0170 - val_loss: 0.0187\n",
      "Epoch 76/200\n",
      "37/37 [==============================] - 0s 11ms/step - loss: 0.0169 - val_loss: 0.0186\n",
      "Epoch 77/200\n",
      "37/37 [==============================] - 0s 12ms/step - loss: 0.0169 - val_loss: 0.0188\n",
      "Epoch 78/200\n",
      "37/37 [==============================] - 0s 11ms/step - loss: 0.0168 - val_loss: 0.0187\n",
      "Epoch 79/200\n",
      "37/37 [==============================] - 0s 11ms/step - loss: 0.0167 - val_loss: 0.0187\n",
      "Epoch 80/200\n",
      "37/37 [==============================] - 0s 12ms/step - loss: 0.0169 - val_loss: 0.0186\n",
      "Epoch 81/200\n",
      "37/37 [==============================] - 0s 12ms/step - loss: 0.0168 - val_loss: 0.0185\n",
      "Epoch 82/200\n",
      "37/37 [==============================] - 0s 11ms/step - loss: 0.0168 - val_loss: 0.0184\n",
      "Epoch 83/200\n",
      "37/37 [==============================] - 0s 13ms/step - loss: 0.0167 - val_loss: 0.0187\n",
      "Epoch 84/200\n",
      "37/37 [==============================] - 0s 12ms/step - loss: 0.0167 - val_loss: 0.0185\n",
      "Epoch 85/200\n",
      "37/37 [==============================] - 0s 11ms/step - loss: 0.0167 - val_loss: 0.0184\n",
      "Epoch 86/200\n",
      "37/37 [==============================] - 0s 12ms/step - loss: 0.0167 - val_loss: 0.0185\n",
      "Epoch 87/200\n",
      "37/37 [==============================] - 0s 12ms/step - loss: 0.0166 - val_loss: 0.0185\n",
      "Epoch 88/200\n",
      "37/37 [==============================] - 0s 11ms/step - loss: 0.0168 - val_loss: 0.0185\n",
      "Epoch 89/200\n",
      "37/37 [==============================] - 0s 12ms/step - loss: 0.0166 - val_loss: 0.0185\n",
      "Epoch 90/200\n",
      "37/37 [==============================] - 0s 11ms/step - loss: 0.0166 - val_loss: 0.0189\n",
      "Epoch 91/200\n",
      "37/37 [==============================] - 0s 12ms/step - loss: 0.0166 - val_loss: 0.0182\n",
      "Epoch 92/200\n",
      "37/37 [==============================] - 0s 12ms/step - loss: 0.0165 - val_loss: 0.0184\n",
      "Epoch 93/200\n",
      "37/37 [==============================] - 0s 11ms/step - loss: 0.0165 - val_loss: 0.0182\n",
      "Epoch 94/200\n",
      "37/37 [==============================] - 0s 12ms/step - loss: 0.0163 - val_loss: 0.0178\n",
      "Epoch 95/200\n",
      "37/37 [==============================] - 0s 12ms/step - loss: 0.0163 - val_loss: 0.0183\n",
      "Epoch 96/200\n",
      "37/37 [==============================] - 0s 11ms/step - loss: 0.0164 - val_loss: 0.0178\n",
      "Epoch 97/200\n",
      "37/37 [==============================] - 0s 12ms/step - loss: 0.0161 - val_loss: 0.0176\n",
      "Epoch 98/200\n",
      "37/37 [==============================] - 0s 12ms/step - loss: 0.0160 - val_loss: 0.0175\n",
      "Epoch 99/200\n",
      "37/37 [==============================] - 0s 11ms/step - loss: 0.0161 - val_loss: 0.0175\n",
      "Epoch 100/200\n",
      "37/37 [==============================] - 0s 11ms/step - loss: 0.0158 - val_loss: 0.0176\n",
      "Epoch 101/200\n",
      "37/37 [==============================] - 0s 12ms/step - loss: 0.0159 - val_loss: 0.0176\n",
      "Epoch 102/200\n",
      "37/37 [==============================] - 0s 11ms/step - loss: 0.0159 - val_loss: 0.0175\n",
      "Epoch 103/200\n",
      "37/37 [==============================] - 0s 12ms/step - loss: 0.0158 - val_loss: 0.0176\n",
      "Epoch 104/200\n",
      "37/37 [==============================] - 0s 13ms/step - loss: 0.0161 - val_loss: 0.0175\n",
      "Epoch 105/200\n",
      "37/37 [==============================] - 0s 11ms/step - loss: 0.0157 - val_loss: 0.0173\n",
      "Epoch 106/200\n",
      "37/37 [==============================] - 0s 12ms/step - loss: 0.0158 - val_loss: 0.0172\n",
      "Epoch 107/200\n",
      "37/37 [==============================] - 0s 12ms/step - loss: 0.0156 - val_loss: 0.0178\n",
      "Epoch 108/200\n",
      "37/37 [==============================] - 0s 11ms/step - loss: 0.0156 - val_loss: 0.0179\n",
      "Epoch 109/200\n",
      "37/37 [==============================] - 0s 12ms/step - loss: 0.0158 - val_loss: 0.0170\n",
      "Epoch 110/200\n",
      "37/37 [==============================] - 0s 13ms/step - loss: 0.0154 - val_loss: 0.0169\n",
      "Epoch 111/200\n",
      "37/37 [==============================] - 0s 11ms/step - loss: 0.0154 - val_loss: 0.0172\n",
      "Epoch 112/200\n",
      "37/37 [==============================] - 0s 12ms/step - loss: 0.0152 - val_loss: 0.0169\n",
      "Epoch 113/200\n",
      "37/37 [==============================] - 0s 12ms/step - loss: 0.0152 - val_loss: 0.0167\n",
      "Epoch 114/200\n",
      "37/37 [==============================] - 0s 11ms/step - loss: 0.0153 - val_loss: 0.0169\n",
      "Epoch 115/200\n",
      "37/37 [==============================] - 0s 12ms/step - loss: 0.0152 - val_loss: 0.0173\n",
      "Epoch 116/200\n",
      "37/37 [==============================] - 0s 11ms/step - loss: 0.0153 - val_loss: 0.0166\n",
      "Epoch 117/200\n",
      "37/37 [==============================] - 0s 11ms/step - loss: 0.0150 - val_loss: 0.0164\n",
      "Epoch 118/200\n",
      "37/37 [==============================] - 0s 12ms/step - loss: 0.0151 - val_loss: 0.0168\n",
      "Epoch 119/200\n",
      "37/37 [==============================] - 0s 11ms/step - loss: 0.0151 - val_loss: 0.0168\n",
      "Epoch 120/200\n",
      "37/37 [==============================] - 0s 11ms/step - loss: 0.0150 - val_loss: 0.0168\n",
      "Epoch 121/200\n",
      "37/37 [==============================] - 0s 12ms/step - loss: 0.0151 - val_loss: 0.0161\n",
      "Epoch 122/200\n",
      "37/37 [==============================] - 0s 13ms/step - loss: 0.0149 - val_loss: 0.0166\n",
      "Epoch 123/200\n",
      "37/37 [==============================] - 0s 11ms/step - loss: 0.0149 - val_loss: 0.0163\n",
      "Epoch 124/200\n",
      "37/37 [==============================] - 0s 12ms/step - loss: 0.0148 - val_loss: 0.0166\n",
      "Epoch 125/200\n",
      "37/37 [==============================] - 0s 11ms/step - loss: 0.0147 - val_loss: 0.0163\n",
      "Epoch 126/200\n",
      "37/37 [==============================] - 0s 12ms/step - loss: 0.0149 - val_loss: 0.0161\n",
      "Epoch 127/200\n",
      "37/37 [==============================] - 0s 12ms/step - loss: 0.0147 - val_loss: 0.0163\n",
      "Epoch 128/200\n",
      "37/37 [==============================] - 0s 11ms/step - loss: 0.0146 - val_loss: 0.0163\n",
      "Epoch 129/200\n",
      "37/37 [==============================] - 0s 11ms/step - loss: 0.0147 - val_loss: 0.0164\n",
      "Epoch 130/200\n",
      "37/37 [==============================] - 0s 13ms/step - loss: 0.0146 - val_loss: 0.0164\n",
      "Epoch 131/200\n",
      "37/37 [==============================] - 0s 11ms/step - loss: 0.0147 - val_loss: 0.0160\n",
      "Epoch 132/200\n",
      "37/37 [==============================] - 0s 11ms/step - loss: 0.0145 - val_loss: 0.0161\n",
      "Epoch 133/200\n",
      "37/37 [==============================] - 1s 14ms/step - loss: 0.0145 - val_loss: 0.0164\n",
      "Epoch 134/200\n",
      "37/37 [==============================] - 0s 11ms/step - loss: 0.0145 - val_loss: 0.0160\n",
      "Epoch 135/200\n",
      "37/37 [==============================] - 0s 12ms/step - loss: 0.0146 - val_loss: 0.0162\n",
      "Epoch 136/200\n",
      "37/37 [==============================] - 0s 13ms/step - loss: 0.0145 - val_loss: 0.0162\n",
      "Epoch 137/200\n",
      "37/37 [==============================] - 0s 12ms/step - loss: 0.0144 - val_loss: 0.0160\n",
      "Epoch 138/200\n",
      "37/37 [==============================] - 0s 12ms/step - loss: 0.0142 - val_loss: 0.0160\n",
      "Epoch 139/200\n",
      "37/37 [==============================] - 0s 13ms/step - loss: 0.0143 - val_loss: 0.0161\n",
      "Epoch 140/200\n",
      "37/37 [==============================] - 0s 12ms/step - loss: 0.0143 - val_loss: 0.0164\n",
      "Epoch 141/200\n",
      "37/37 [==============================] - 0s 12ms/step - loss: 0.0143 - val_loss: 0.0162\n",
      "Epoch 142/200\n",
      "37/37 [==============================] - 0s 12ms/step - loss: 0.0144 - val_loss: 0.0160\n",
      "Epoch 143/200\n",
      "37/37 [==============================] - 0s 12ms/step - loss: 0.0142 - val_loss: 0.0163\n",
      "Epoch 144/200\n",
      "37/37 [==============================] - 0s 12ms/step - loss: 0.0143 - val_loss: 0.0163\n",
      "Epoch 145/200\n",
      "37/37 [==============================] - 0s 12ms/step - loss: 0.0144 - val_loss: 0.0159\n",
      "Epoch 146/200\n",
      "37/37 [==============================] - 0s 12ms/step - loss: 0.0141 - val_loss: 0.0161\n",
      "Epoch 147/200\n",
      "37/37 [==============================] - 0s 12ms/step - loss: 0.0142 - val_loss: 0.0160\n",
      "Epoch 148/200\n",
      "37/37 [==============================] - 0s 11ms/step - loss: 0.0142 - val_loss: 0.0161\n",
      "Epoch 149/200\n",
      "37/37 [==============================] - 0s 12ms/step - loss: 0.0144 - val_loss: 0.0162\n",
      "Epoch 150/200\n",
      "37/37 [==============================] - 0s 12ms/step - loss: 0.0142 - val_loss: 0.0161\n",
      "Epoch 151/200\n",
      "37/37 [==============================] - 0s 12ms/step - loss: 0.0141 - val_loss: 0.0168\n",
      "Epoch 152/200\n",
      "37/37 [==============================] - 0s 12ms/step - loss: 0.0142 - val_loss: 0.0160\n",
      "Epoch 153/200\n",
      "37/37 [==============================] - 0s 12ms/step - loss: 0.0140 - val_loss: 0.0158\n",
      "Epoch 154/200\n",
      "37/37 [==============================] - 0s 11ms/step - loss: 0.0139 - val_loss: 0.0162\n",
      "Epoch 155/200\n",
      "37/37 [==============================] - 0s 12ms/step - loss: 0.0138 - val_loss: 0.0164\n",
      "Epoch 156/200\n",
      "37/37 [==============================] - 1s 14ms/step - loss: 0.0138 - val_loss: 0.0161\n",
      "Epoch 157/200\n",
      "37/37 [==============================] - 0s 12ms/step - loss: 0.0139 - val_loss: 0.0158\n",
      "Epoch 158/200\n",
      "37/37 [==============================] - 0s 12ms/step - loss: 0.0140 - val_loss: 0.0160\n",
      "Epoch 159/200\n",
      "37/37 [==============================] - 0s 13ms/step - loss: 0.0138 - val_loss: 0.0159\n",
      "Epoch 160/200\n",
      "37/37 [==============================] - 0s 11ms/step - loss: 0.0138 - val_loss: 0.0159\n",
      "Epoch 161/200\n",
      "37/37 [==============================] - 0s 12ms/step - loss: 0.0138 - val_loss: 0.0159\n",
      "Epoch 162/200\n",
      "37/37 [==============================] - 0s 12ms/step - loss: 0.0138 - val_loss: 0.0159\n",
      "Epoch 163/200\n",
      "37/37 [==============================] - 0s 12ms/step - loss: 0.0138 - val_loss: 0.0157\n",
      "Epoch 164/200\n",
      "37/37 [==============================] - 0s 12ms/step - loss: 0.0135 - val_loss: 0.0158\n",
      "Epoch 165/200\n",
      "37/37 [==============================] - 0s 12ms/step - loss: 0.0136 - val_loss: 0.0161\n",
      "Epoch 166/200\n",
      "37/37 [==============================] - 0s 12ms/step - loss: 0.0137 - val_loss: 0.0158\n",
      "Epoch 167/200\n",
      "37/37 [==============================] - 0s 12ms/step - loss: 0.0136 - val_loss: 0.0162\n",
      "Epoch 168/200\n",
      "37/37 [==============================] - 0s 11ms/step - loss: 0.0136 - val_loss: 0.0158\n",
      "Epoch 169/200\n",
      "37/37 [==============================] - 0s 12ms/step - loss: 0.0136 - val_loss: 0.0159\n",
      "Epoch 170/200\n",
      "37/37 [==============================] - 0s 12ms/step - loss: 0.0134 - val_loss: 0.0160\n",
      "Epoch 171/200\n",
      "37/37 [==============================] - 0s 13ms/step - loss: 0.0134 - val_loss: 0.0160\n",
      "Epoch 172/200\n",
      "37/37 [==============================] - 0s 12ms/step - loss: 0.0135 - val_loss: 0.0157\n",
      "Epoch 173/200\n",
      "37/37 [==============================] - 0s 13ms/step - loss: 0.0134 - val_loss: 0.0160\n",
      "Epoch 174/200\n",
      "37/37 [==============================] - 0s 12ms/step - loss: 0.0134 - val_loss: 0.0159\n",
      "Epoch 175/200\n",
      "37/37 [==============================] - 0s 12ms/step - loss: 0.0133 - val_loss: 0.0160\n",
      "Epoch 176/200\n",
      "37/37 [==============================] - 0s 13ms/step - loss: 0.0134 - val_loss: 0.0156\n",
      "Epoch 177/200\n",
      "37/37 [==============================] - 0s 12ms/step - loss: 0.0134 - val_loss: 0.0158\n",
      "Epoch 178/200\n",
      "37/37 [==============================] - 0s 12ms/step - loss: 0.0134 - val_loss: 0.0157\n",
      "Epoch 179/200\n",
      "37/37 [==============================] - 0s 12ms/step - loss: 0.0133 - val_loss: 0.0159\n",
      "Epoch 180/200\n",
      "37/37 [==============================] - 0s 12ms/step - loss: 0.0133 - val_loss: 0.0156\n",
      "Epoch 181/200\n",
      "37/37 [==============================] - 0s 13ms/step - loss: 0.0131 - val_loss: 0.0163\n",
      "Epoch 182/200\n",
      "37/37 [==============================] - 0s 12ms/step - loss: 0.0132 - val_loss: 0.0157\n",
      "Epoch 183/200\n",
      "37/37 [==============================] - 0s 12ms/step - loss: 0.0132 - val_loss: 0.0157\n",
      "Epoch 184/200\n",
      "37/37 [==============================] - 1s 15ms/step - loss: 0.0131 - val_loss: 0.0157\n",
      "Epoch 185/200\n",
      "37/37 [==============================] - 0s 12ms/step - loss: 0.0131 - val_loss: 0.0156\n",
      "Epoch 186/200\n",
      "37/37 [==============================] - 0s 13ms/step - loss: 0.0132 - val_loss: 0.0161\n",
      "Epoch 187/200\n",
      "37/37 [==============================] - 0s 13ms/step - loss: 0.0130 - val_loss: 0.0158\n",
      "Epoch 188/200\n",
      "37/37 [==============================] - 0s 12ms/step - loss: 0.0130 - val_loss: 0.0160\n",
      "Epoch 189/200\n",
      "37/37 [==============================] - 0s 12ms/step - loss: 0.0129 - val_loss: 0.0155\n",
      "Epoch 190/200\n",
      "37/37 [==============================] - 0s 13ms/step - loss: 0.0128 - val_loss: 0.0159\n",
      "Epoch 191/200\n",
      "37/37 [==============================] - 0s 12ms/step - loss: 0.0130 - val_loss: 0.0157\n",
      "Epoch 192/200\n",
      "37/37 [==============================] - 0s 12ms/step - loss: 0.0128 - val_loss: 0.0157\n",
      "Epoch 193/200\n",
      "37/37 [==============================] - 0s 13ms/step - loss: 0.0130 - val_loss: 0.0156\n",
      "Epoch 194/200\n",
      "37/37 [==============================] - 0s 11ms/step - loss: 0.0128 - val_loss: 0.0157\n",
      "Epoch 195/200\n",
      "37/37 [==============================] - 0s 12ms/step - loss: 0.0128 - val_loss: 0.0156\n",
      "Epoch 196/200\n",
      "37/37 [==============================] - 0s 12ms/step - loss: 0.0127 - val_loss: 0.0157\n",
      "Epoch 197/200\n",
      "37/37 [==============================] - 0s 11ms/step - loss: 0.0127 - val_loss: 0.0156\n",
      "Epoch 198/200\n",
      "37/37 [==============================] - 0s 12ms/step - loss: 0.0128 - val_loss: 0.0156\n",
      "Epoch 199/200\n",
      "37/37 [==============================] - 0s 13ms/step - loss: 0.0126 - val_loss: 0.0157\n",
      "Epoch 200/200\n",
      "37/37 [==============================] - 0s 12ms/step - loss: 0.0125 - val_loss: 0.0158\n"
     ]
    }
   ],
   "source": [
    "from keras.callbacks import EarlyStopping\n",
    "\n",
    "# 定义EarlyStopping回调\n",
    "# patience=15: 如果验证集损失连续15轮没有下降，就停止训练\n",
    "# restore_best_weights=True: 停止后，自动把模型权重恢复到val_loss最低的那一轮\n",
    "early_stopping = EarlyStopping(monitor='val_loss', patience=15, restore_best_weights=True)\n",
    "\n",
    "# 训练模型\n",
    "history = model.fit(X_train, y_train, \n",
    "                    epochs=200, \n",
    "                    batch_size=16, \n",
    "                    validation_data=(X_test, y_test),\n",
    "                    callbacks=[early_stopping]) # 启用回调\n",
    "\n",
    "model.save(model_path)"
   ]
  },
  {
   "cell_type": "markdown",
   "id": "6db07906",
   "metadata": {},
   "source": [
    "#### step5: 模型评估"
   ]
  },
  {
   "cell_type": "markdown",
   "id": "527231a5",
   "metadata": {},
   "source": [
    "* 注意此处存在一个隐藏的bug，此处不能使用`X_test`是作为训练时的对比的真实数据，应该采用`y_train`"
   ]
  },
  {
   "cell_type": "code",
   "execution_count": 17,
   "id": "49774064",
   "metadata": {},
   "outputs": [
    {
     "name": "stdout",
     "output_type": "stream",
     "text": [
      "5/5 [==============================] - 1s 6ms/step\n"
     ]
    }
   ],
   "source": [
    "y_pred=model.predict(X_test)"
   ]
  },
  {
   "cell_type": "code",
   "execution_count": 18,
   "id": "2282af1b",
   "metadata": {},
   "outputs": [
    {
     "data": {
      "text/plain": [
       "(147, 32, 1)"
      ]
     },
     "execution_count": 18,
     "metadata": {},
     "output_type": "execute_result"
    }
   ],
   "source": [
    "y_pred.shape"
   ]
  },
  {
   "cell_type": "markdown",
   "id": "b1198bc3",
   "metadata": {},
   "source": [
    " TODO:[*] 25-06-19 测试数据应使用2025年的实况+风场预报  \n",
    " 暂时将2024年的数据再进行切分"
   ]
  },
  {
   "cell_type": "markdown",
   "id": "2ee5b625",
   "metadata": {},
   "source": [
    " 1. 使用 scaler_y 来进行反归一化，因为 y_pred 是对 y_scaled 的预测\n",
    " 2. 修改变量名以反映其真实含义"
   ]
  },
  {
   "cell_type": "code",
   "execution_count": 19,
   "id": "522ada7c",
   "metadata": {},
   "outputs": [],
   "source": [
    "y_pred_denormalize=scaler_y.inverse_transform(y_pred.reshape(-1, 1))"
   ]
  },
  {
   "cell_type": "markdown",
   "id": "c2e5f598",
   "metadata": {},
   "source": [
    "3. 将反归一化后的数据恢复为与 y_test 相同的3D形状  \n"
   ]
  },
  {
   "cell_type": "code",
   "execution_count": 20,
   "id": "41339837",
   "metadata": {},
   "outputs": [],
   "source": [
    "y_pred_denormalize = y_pred_denormalize.reshape(y_pred.shape)"
   ]
  },
  {
   "cell_type": "code",
   "execution_count": 21,
   "id": "e2fd02ec",
   "metadata": {},
   "outputs": [
    {
     "data": {
      "text/plain": [
       "(147, 32, 1)"
      ]
     },
     "execution_count": 21,
     "metadata": {},
     "output_type": "execute_result"
    }
   ],
   "source": [
    "y_pred_denormalize.shape"
   ]
  },
  {
   "cell_type": "markdown",
   "id": "627bbe41",
   "metadata": {},
   "source": [
    "* 注意numpy.ndarray可以通过 `arr[:,:,x]` 进行切分，类似于 `df.iloc[:,:,x]`"
   ]
  },
  {
   "cell_type": "code",
   "execution_count": 22,
   "id": "8e372b84",
   "metadata": {},
   "outputs": [],
   "source": [
    "y_pred_finally=y_pred_denormalize[:,:,0]"
   ]
  },
  {
   "cell_type": "code",
   "execution_count": 23,
   "id": "ab9abb5b",
   "metadata": {},
   "outputs": [
    {
     "data": {
      "text/plain": [
       "(147, 32)"
      ]
     },
     "execution_count": 23,
     "metadata": {},
     "output_type": "execute_result"
    }
   ],
   "source": [
    "x_test_denormalize=scaler_X.inverse_transform(X_test.reshape(-1, 1))\n",
    "x_test_denormalize = x_test_denormalize.reshape(X_test.shape)\n",
    "x_test_denormalize=x_test_denormalize[:,:,0]\n",
    "x_test_denormalize.shape"
   ]
  },
  {
   "cell_type": "code",
   "execution_count": 24,
   "id": "c697cc4e",
   "metadata": {},
   "outputs": [],
   "source": [
    "def compute_rmse(x_series: pd.Series, y_series: pd.Series) -> pd.Series:\n",
    "    \"\"\"\n",
    "        计算 x_series 与 y_series 的RMSE\n",
    "    :param x_series:\n",
    "    :param y_series:\n",
    "    :return:\n",
    "    \"\"\"\n",
    "    # 计算差值的平方\n",
    "    squared_errors = (x_series - y_series) ** 2\n",
    "\n",
    "    # 计算每列的均方误差 (MSE)\n",
    "    mse_per_column = squared_errors.mean(axis=0)  # axis=0 表示按列计算均值\n",
    "\n",
    "    # 计算每列的均方根误差 (RMSE)\n",
    "    rmse = np.sqrt(mse_per_column)\n",
    "    return rmse"
   ]
  },
  {
   "cell_type": "code",
   "execution_count": 25,
   "id": "e7fc1136",
   "metadata": {},
   "outputs": [],
   "source": [
    "rmse_series = compute_rmse(y_pred_finally, x_test_denormalize)"
   ]
  },
  {
   "cell_type": "code",
   "execution_count": 26,
   "id": "9a4bc5bd",
   "metadata": {},
   "outputs": [
    {
     "data": {
      "text/plain": [
       "array([1.5963979, 3.5402365, 1.6372408, 1.5920941, 1.7718573, 3.8031242,\n",
       "       1.7631826, 1.6143762, 1.6887683, 3.170978 , 2.0221314, 1.6887543,\n",
       "       1.7023795, 3.5326066, 1.8351976, 1.7355433, 1.730252 , 2.7031522,\n",
       "       1.7703615, 1.6770383, 1.7478429, 2.9722533, 1.8598019, 1.8117071,\n",
       "       1.7701943, 2.7757876, 1.8338153, 1.7985984, 1.8419927, 2.718462 ,\n",
       "       1.9339252, 2.046879 ], dtype=float32)"
      ]
     },
     "execution_count": 26,
     "metadata": {},
     "output_type": "execute_result"
    }
   ],
   "source": [
    "rmse_series"
   ]
  },
  {
   "cell_type": "code",
   "execution_count": 27,
   "id": "82803f31",
   "metadata": {},
   "outputs": [
    {
     "data": {
      "text/plain": [
       "32"
      ]
     },
     "execution_count": 27,
     "metadata": {},
     "output_type": "execute_result"
    }
   ],
   "source": [
    "len(rmse_series)"
   ]
  },
  {
   "cell_type": "code",
   "execution_count": 28,
   "id": "067d354a",
   "metadata": {},
   "outputs": [],
   "source": [
    "rmse_df= pd.DataFrame(rmse_series, columns=['RMSE'])"
   ]
  },
  {
   "cell_type": "code",
   "execution_count": 29,
   "id": "a9b32929",
   "metadata": {},
   "outputs": [],
   "source": [
    "rmse_df.to_csv('Z:/01TRAINNING_DATA/RMSE/fit_model_v3.2_250624_cnn_simaple_0_96.csv')"
   ]
  },
  {
   "cell_type": "code",
   "execution_count": 30,
   "id": "6aa8eeb3",
   "metadata": {},
   "outputs": [],
   "source": [
    "df_source=pd.read_csv('Z:/01TRAINNING_DATA/RMSE/source_forecast_rmse.csv')"
   ]
  },
  {
   "cell_type": "code",
   "execution_count": 31,
   "id": "8363eb05",
   "metadata": {},
   "outputs": [],
   "source": [
    "source_model_series=df_source['0']"
   ]
  },
  {
   "cell_type": "code",
   "execution_count": 32,
   "id": "46198b88",
   "metadata": {},
   "outputs": [],
   "source": [
    "# 对于原始风场模型RMSE进行截取\n",
    "source_model_series_split= source_model_series.iloc[start_index:end_index]"
   ]
  },
  {
   "cell_type": "code",
   "execution_count": 33,
   "id": "f54f5a7a",
   "metadata": {},
   "outputs": [
    {
     "data": {
      "text/plain": [
       "32"
      ]
     },
     "execution_count": 33,
     "metadata": {},
     "output_type": "execute_result"
    }
   ],
   "source": [
    "len(source_model_series_split)"
   ]
  },
  {
   "cell_type": "code",
   "execution_count": 34,
   "id": "9e74aa8b",
   "metadata": {},
   "outputs": [
    {
     "data": {
      "text/plain": [
       "array([1.5963979, 3.5402365, 1.6372408, 1.5920941, 1.7718573, 3.8031242,\n",
       "       1.7631826, 1.6143762, 1.6887683, 3.170978 , 2.0221314, 1.6887543,\n",
       "       1.7023795, 3.5326066, 1.8351976, 1.7355433, 1.730252 , 2.7031522,\n",
       "       1.7703615, 1.6770383, 1.7478429, 2.9722533, 1.8598019, 1.8117071,\n",
       "       1.7701943, 2.7757876, 1.8338153, 1.7985984, 1.8419927, 2.718462 ,\n",
       "       1.9339252, 2.046879 ], dtype=float32)"
      ]
     },
     "execution_count": 34,
     "metadata": {},
     "output_type": "execute_result"
    }
   ],
   "source": [
    "rmse_series"
   ]
  },
  {
   "cell_type": "code",
   "execution_count": 35,
   "id": "97ee7669",
   "metadata": {},
   "outputs": [],
   "source": [
    "source_model_series_split=source_model_series_split.to_list()"
   ]
  },
  {
   "cell_type": "code",
   "execution_count": 40,
   "id": "e2b88128",
   "metadata": {},
   "outputs": [
    {
     "data": {
      "text/plain": [
       "[1.662858703444374,\n",
       " 1.7121915896506086,\n",
       " 1.7635146815257834,\n",
       " 1.8021876033507933,\n",
       " 1.888381692587024,\n",
       " 2.08755353320523,\n",
       " 1.992755072891736,\n",
       " 1.90351648296798,\n",
       " 2.0540830114753303,\n",
       " 2.2027035088631,\n",
       " 2.29103795375983,\n",
       " 2.2241049275804845,\n",
       " 2.245231283553077,\n",
       " 2.4164258878349005,\n",
       " 2.49723306448121,\n",
       " 2.3590475675485605,\n",
       " 2.536243528261305,\n",
       " 2.5322141608314324,\n",
       " 2.6769928567642705,\n",
       " 2.639958545180855,\n",
       " 2.8303108506430226,\n",
       " 2.8931108647651205,\n",
       " 2.761806187270728,\n",
       " 2.720971375735356,\n",
       " 2.732894342265728,\n",
       " 3.0249838365351085,\n",
       " 2.969289047701263,\n",
       " 2.8909393854830467,\n",
       " 3.0136955761044577,\n",
       " 3.1727125973712864,\n",
       " 2.971623102355798,\n",
       " 3.084218237170166]"
      ]
     },
     "execution_count": 40,
     "metadata": {},
     "output_type": "execute_result"
    }
   ],
   "source": [
    "source_model_series_split"
   ]
  },
  {
   "cell_type": "markdown",
   "id": "7548ef57",
   "metadata": {},
   "source": [
    "绘图"
   ]
  },
  {
   "cell_type": "code",
   "execution_count": 36,
   "id": "24095f96",
   "metadata": {},
   "outputs": [
    {
     "data": {
      "image/png": "[encoded data removed]",
      "text/plain": [
       "<Figure size 800x500 with 1 Axes>"
      ]
     },
     "metadata": {},
     "output_type": "display_data"
    }
   ],
   "source": [
    "# 创建图表\n",
    "plt.figure(figsize=(8, 5))  # 设置图像大小\n",
    "plt.plot(rmse_series, label=\"fit model forecast\", marker='o')  # 绘制第一条线\n",
    "plt.plot(source_model_series_split, label=\"source forecast\", marker='s')  # 绘制第二条线\n",
    "\n",
    "# 添加标题和标签\n",
    "plt.title(\"Series Comparison\")\n",
    "plt.xlabel(\"Index\")\n",
    "plt.ylabel(\"Values\")\n",
    "plt.legend()  # 显示图例\n",
    "plt.grid()  # 添加网格线\n",
    "\n",
    "# 显示图表\n",
    "plt.show()"
   ]
  },
  {
   "cell_type": "code",
   "execution_count": null,
   "id": "2fcdecf0",
   "metadata": {},
   "outputs": [],
   "source": []
  }
 ],
 "metadata": {
  "kernelspec": {
   "display_name": "py39",
   "language": "python",
   "name": "python3"
  },
  "language_info": {
   "codemirror_mode": {
    "name": "ipython",
    "version": 3
   },
   "file_extension": ".py",
   "mimetype": "text/x-python",
   "name": "python",
   "nbconvert_exporter": "python",
   "pygments_lexer": "ipython3",
   "version": "3.9.21"
  }
 },
 "nbformat": 4,
 "nbformat_minor": 5
}
