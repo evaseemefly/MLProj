{
 "cells": [
  {
   "cell_type": "code",
   "execution_count": null,
   "id": "2862e7b1",
   "metadata": {},
   "outputs": [],
   "source": [
    "from utils.common import get_realdata_df\n",
    "\n",
    "\n",
    "def main():\n",
    "    read_file_path: str = r'Z:/FUB/MF01001/2024_local.csv'\n",
    "    out_put_file_path: str = r'Z:/FUB/MF01001/2024_local_df_utc_183.csv'\n",
    "    # step1: 读取原始整年数据\n",
    "    # step2: 按照时间步长生成对应的dataframe\n",
    "    # TODO:[-] 25-06-08 GRAPES 风场数据时间步长为 3h , 预报时次为 61 。每组总计需要取 3*61=183 个实况\n",
    "    df_utc = get_realdata_df(read_file_path, 183)\n",
    "    # step3: 将生成的 df 存储为 .csv 文件\n",
    "    df_utc.to_csv(out_put_file_path)\n",
    "\n",
    "    pass\n",
    "\n",
    "\n",
    "if __name__ == '__main__':\n",
    "    main()\n"
   ]
  }
 ],
 "metadata": {
  "language_info": {
   "name": "python"
  }
 },
 "nbformat": 4,
 "nbformat_minor": 5
}
