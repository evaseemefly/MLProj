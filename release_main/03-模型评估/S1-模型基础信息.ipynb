{
 "cells": [
  {
   "cell_type": "code",
   "execution_count": 1,
   "id": "09ef4041",
   "metadata": {},
   "outputs": [],
   "source": [
    "import csv\n",
    "from typing import Optional,Any\n",
    "import random\n",
    "import arrow\n",
    "import numpy as np\n",
    "import pandas as pd\n",
    "import tensorflow as tf\n",
    "from keras import Sequential\n",
    "#from keras.src.layers import LSTM, Dropout, Dense\n",
    "from pandas import DatetimeIndex\n",
    "from sklearn.model_selection import train_test_split\n",
    "from sklearn.metrics import mean_squared_error\n",
    "# 可视化结果（如果需要）\n",
    "import matplotlib.pyplot as plt\n",
    "import os\n",
    "import pathlib\n",
    "import xml.etree.ElementTree as ET\n",
    "import xarray as xr\n",
    "import codecs\n",
    "import datetime\n",
    "\n",
    "# 先从海浪数据中提取出经纬度，时间，风，海浪高度\n",
    "# 解析单个文件，并存于字典内\n",
    "from sklearn.preprocessing import StandardScaler\n",
    "# from tensorflow.keras.callbacks import EarlyStopping\n",
    "from sklearn.preprocessing import MinMaxScaler\n",
    "from keras.models import load_model\n",
    "from sklearn.model_selection import train_test_split\n",
    "from sklearn.metrics import mean_squared_error\n",
    "import sys"
   ]
  },
  {
   "cell_type": "code",
   "execution_count": 2,
   "id": "080b67dd",
   "metadata": {},
   "outputs": [],
   "source": [
    "def load_customer_model(model_path: str) -> Any:\n",
    "    if pathlib.Path(model_path).exists():\n",
    "        loaded_model = load_model(model_path)\n",
    "        \"\"\"加载后的模型\"\"\"\n",
    "        print(loaded_model.summary())\n",
    "        return loaded_model\n",
    "    return None"
   ]
  },
  {
   "cell_type": "code",
   "execution_count": 3,
   "id": "48688387",
   "metadata": {},
   "outputs": [
    {
     "name": "stdout",
     "output_type": "stream",
     "text": [
      "Model: \"sequential\"\n",
      "_________________________________________________________________\n",
      " Layer (type)                Output Shape              Param #   \n",
      "=================================================================\n",
      " masking (Masking)           (None, 61, 1)             0         \n",
      "                                                                 \n",
      " bidirectional (Bidirectiona  (None, 61, 512)          528384    \n",
      " l)                                                              \n",
      "                                                                 \n",
      " dropout (Dropout)           (None, 61, 512)           0         \n",
      "                                                                 \n",
      " bidirectional_1 (Bidirectio  (None, 61, 256)          656384    \n",
      " nal)                                                            \n",
      "                                                                 \n",
      " dropout_1 (Dropout)         (None, 61, 256)           0         \n",
      "                                                                 \n",
      " bidirectional_2 (Bidirectio  (None, 61, 128)          164352    \n",
      " nal)                                                            \n",
      "                                                                 \n",
      " dropout_2 (Dropout)         (None, 61, 128)           0         \n",
      "                                                                 \n",
      " dense (Dense)               (None, 61, 1)             129       \n",
      "                                                                 \n",
      "=================================================================\n",
      "Total params: 1,349,249\n",
      "Trainable params: 1,349,249\n",
      "Non-trainable params: 0\n",
      "_________________________________________________________________\n",
      "None\n"
     ]
    }
   ],
   "source": [
    "model_path: str = r'Z:\\02TRAINNING_MODEL\\fit_model_v3_250617.h5'\n",
    "loaded_model = load_customer_model(model_path)"
   ]
  },
  {
   "cell_type": "code",
   "execution_count": null,
   "id": "6c399386",
   "metadata": {},
   "outputs": [],
   "source": []
  }
 ],
 "metadata": {
  "kernelspec": {
   "display_name": "py39",
   "language": "python",
   "name": "python3"
  },
  "language_info": {
   "codemirror_mode": {
    "name": "ipython",
    "version": 3
   },
   "file_extension": ".py",
   "mimetype": "text/x-python",
   "name": "python",
   "nbconvert_exporter": "python",
   "pygments_lexer": "ipython3",
   "version": "3.9.21"
  }
 },
 "nbformat": 4,
 "nbformat_minor": 5
}
